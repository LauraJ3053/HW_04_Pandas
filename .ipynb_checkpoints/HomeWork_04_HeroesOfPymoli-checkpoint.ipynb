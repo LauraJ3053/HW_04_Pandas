{
 "cells": [
  {
   "cell_type": "code",
   "execution_count": null,
   "metadata": {
    "scrolled": true
   },
   "outputs": [],
   "source": [
    "# Dependencies and Setup\n",
    "import pandas as pd\n",
    "import numpy as np\n",
    "\n",
    "# File to Load (Remember to Change These)\n",
    "file_to_load = \"Resources/purchase_data.csv\"\n",
    "\n",
    "# Read Purchasing File and store into Pandas data frame\n",
    "purchase_data_pd = pd.read_csv(file_to_load)\n",
    "purchase_data_pd.head()"
   ]
  },
  {
   "cell_type": "code",
   "execution_count": null,
   "metadata": {},
   "outputs": [],
   "source": [
    "pur_data_df = pd.read_csv(file_to_load, encoding=\"utf-8\")\n",
    "pur_data_df.head()"
   ]
  },
  {
   "cell_type": "code",
   "execution_count": null,
   "metadata": {},
   "outputs": [],
   "source": [
    "# Calculate the number of unique players in the DataFrame\n",
    "player_count = len(pur_data_df[\"SN\"].unique())\n",
    "player_count"
   ]
  },
  {
   "cell_type": "code",
   "execution_count": null,
   "metadata": {},
   "outputs": [],
   "source": [
    "Player Count\n",
    "Display the total number of players"
   ]
  },
  {
   "cell_type": "code",
   "execution_count": null,
   "metadata": {},
   "outputs": [],
   "source": []
  },
  {
   "cell_type": "code",
   "execution_count": null,
   "metadata": {},
   "outputs": [],
   "source": [
    "\n",
    "Total Players\n",
    "0\t576"
   ]
  },
  {
   "cell_type": "code",
   "execution_count": null,
   "metadata": {},
   "outputs": [],
   "source": [
    "Purchasing Analysis (Total)\n",
    "Run basic calculations to obtain number of unique items, average price, etc.\n",
    "Create a summary data frame to hold the results\n",
    "Optional: give the displayed data cleaner formatting\n",
    "Display the summary data frame"
   ]
  },
  {
   "cell_type": "code",
   "execution_count": null,
   "metadata": {},
   "outputs": [],
   "source": [
    "item_count = len(pur_data_df[\"Item ID\"].unique())\n",
    "item_count"
   ]
  },
  {
   "cell_type": "code",
   "execution_count": null,
   "metadata": {},
   "outputs": [],
   "source": [
    "average_price = pur_data_df[\"Price\"].mean()\n",
    "average_price"
   ]
  },
  {
   "cell_type": "code",
   "execution_count": null,
   "metadata": {},
   "outputs": [],
   "source": [
    "# The value_counts method counts unique values in a column\n",
    "purchase_count = pur_data_df[\"Purchase ID\"].value_counts()\n",
    "purchase_count"
   ]
  },
  {
   "cell_type": "code",
   "execution_count": null,
   "metadata": {},
   "outputs": [],
   "source": [
    "# Place all of the data found into a summary DataFrame\n",
    "summary_table = pd.DataFrame({\"Number of Unique Items\": author_count,\n",
    "                              \"Average Price\": [earliest_year],\n",
    "                              \"Number of Purchases\": [latest_year],\n",
    "                              \"Total Revenue\": [total_reviews]})"
   ]
  },
  {
   "cell_type": "code",
   "execution_count": null,
   "metadata": {},
   "outputs": [],
   "source": [
    "\n",
    "Number of Unique Items\tAverage Price\tNumber of Purchases\tTotal Revenue\n",
    "0\t183\t$3.05\t780\t$2,379.77"
   ]
  },
  {
   "cell_type": "code",
   "execution_count": null,
   "metadata": {},
   "outputs": [],
   "source": [
    "Gender Demographics\n",
    "Percentage and Count of Male Players\n",
    "Percentage and Count of Female Players\n",
    "Percentage and Count of Other / Non-Disclosed"
   ]
  },
  {
   "cell_type": "code",
   "execution_count": null,
   "metadata": {},
   "outputs": [],
   "source": []
  },
  {
   "cell_type": "code",
   "execution_count": null,
   "metadata": {},
   "outputs": [],
   "source": []
  },
  {
   "cell_type": "code",
   "execution_count": null,
   "metadata": {},
   "outputs": [],
   "source": []
  },
  {
   "cell_type": "code",
   "execution_count": null,
   "metadata": {},
   "outputs": [],
   "source": []
  },
  {
   "cell_type": "code",
   "execution_count": null,
   "metadata": {},
   "outputs": [],
   "source": [
    "\tTotal Count\tPercentage of Players\n",
    "Male\t484\t84.03\n",
    "Female\t81\t14.06\n",
    "Other / Non-Disclosed\t11\t1.91"
   ]
  },
  {
   "cell_type": "code",
   "execution_count": null,
   "metadata": {},
   "outputs": [],
   "source": []
  },
  {
   "cell_type": "code",
   "execution_count": null,
   "metadata": {},
   "outputs": [],
   "source": [
    "Purchasing Analysis (Gender)\n",
    "Run basic calculations to obtain purchase count, avg. purchase price, avg. purchase total per person etc. by gender\n",
    "Create a summary data frame to hold the results\n",
    "Optional: give the displayed data cleaner formatting\n",
    "Display the summary data frame"
   ]
  },
  {
   "cell_type": "code",
   "execution_count": null,
   "metadata": {},
   "outputs": [],
   "source": []
  },
  {
   "cell_type": "code",
   "execution_count": null,
   "metadata": {},
   "outputs": [],
   "source": [
    "\tPurchase Count\tAverage Purchase Price\tTotal Purchase Value\tAvg Total Purchase per Person\n",
    "Gender\t\t\t\t\n",
    "Female\t113\t$3.20\t$361.94\t$4.47\n",
    "Male\t652\t$3.02\t$1,967.64\t$4.07\n",
    "Other / Non-Disclosed\t15\t$3.35\t$50.19\t$4.56\n"
   ]
  },
  {
   "cell_type": "code",
   "execution_count": null,
   "metadata": {},
   "outputs": [],
   "source": [
    "Age Demographics\n",
    "Establish bins for ages\n",
    "Categorize the existing players using the age bins. Hint: use pd.cut()\n",
    "Calculate the numbers and percentages by age group\n",
    "Create a summary data frame to hold the results\n",
    "Optional: round the percentage column to two decimal points\n",
    "Display Age Demographics Table"
   ]
  },
  {
   "cell_type": "code",
   "execution_count": null,
   "metadata": {},
   "outputs": [],
   "source": []
  },
  {
   "cell_type": "code",
   "execution_count": null,
   "metadata": {},
   "outputs": [],
   "source": [
    "\n",
    "Total Count\tPercentage of Players\n",
    "<10\t17\t2.95\n",
    "10-14\t22\t3.82\n",
    "15-19\t107\t18.58\n",
    "20-24\t258\t44.79\n",
    "25-29\t77\t13.37\n",
    "30-34\t52\t9.03\n",
    "35-39\t31\t5.38\n",
    "40+\t12\t2.08\n",
    "Purchasing Analysis (Age)\n",
    "Bin the purchase_data data frame by age\n",
    "Run basic calculations to obtain purchase count, avg. purchase price, avg. purchase total per person etc. in the table below\n",
    "Create a summary data frame to hold the results\n",
    "Optional: give the displayed data cleaner formatting\n",
    "Display the summary data frame"
   ]
  },
  {
   "cell_type": "code",
   "execution_count": null,
   "metadata": {},
   "outputs": [],
   "source": []
  },
  {
   "cell_type": "code",
   "execution_count": null,
   "metadata": {},
   "outputs": [],
   "source": [
    "\tPurchase Count\tAverage Purchase Price\tTotal Purchase Value\tAvg Total Purchase per Person\n",
    "10-14\t28\t$2.96\t$82.78\t$3.76\n",
    "15-19\t136\t$3.04\t$412.89\t$3.86\n",
    "20-24\t365\t$3.05\t$1,114.06\t$4.32\n",
    "25-29\t101\t$2.90\t$293.00\t$3.81\n",
    "30-34\t73\t$2.93\t$214.00\t$4.12\n",
    "35-39\t41\t$3.60\t$147.67\t$4.76\n",
    "40+\t13\t$2.94\t$38.24\t$3.19\n",
    "<10\t23\t$3.35\t$77.13\t$4.54\n",
    "Top Spenders\n",
    "Run basic calculations to obtain the results in the table below\n",
    "Create a summary data frame to hold the results\n",
    "Sort the total purchase value column in descending order\n",
    "Optional: give the displayed data cleaner formatting\n",
    "Display a preview of the summary data frame"
   ]
  },
  {
   "cell_type": "code",
   "execution_count": null,
   "metadata": {},
   "outputs": [],
   "source": []
  },
  {
   "cell_type": "code",
   "execution_count": null,
   "metadata": {},
   "outputs": [],
   "source": [
    "\tPurchase Count\tAverage Purchase Price\tTotal Purchase Value\n",
    "SN\t\t\t\n",
    "Lisosia93\t5\t$3.79\t$18.96\n",
    "Idastidru52\t4\t$3.86\t$15.45\n",
    "Chamjask73\t3\t$4.61\t$13.83\n",
    "Iral74\t4\t$3.40\t$13.62\n",
    "Iskadarya95\t3\t$4.37\t$13.10\n",
    "Most Popular Items\n",
    "Retrieve the Item ID, Item Name, and Item Price columns\n",
    "Group by Item ID and Item Name. Perform calculations to obtain purchase count, item price, and total purchase value\n",
    "Create a summary data frame to hold the results\n",
    "Sort the purchase count column in descending order\n",
    "Optional: give the displayed data cleaner formatting\n",
    "Display a preview of the summary data frame"
   ]
  },
  {
   "cell_type": "code",
   "execution_count": null,
   "metadata": {},
   "outputs": [],
   "source": []
  },
  {
   "cell_type": "code",
   "execution_count": null,
   "metadata": {},
   "outputs": [],
   "source": [
    "\n",
    "Purchase Count\tItem Price\tTotal Purchase Value\n",
    "Item ID\tItem Name\t\t\t\n",
    "178\tOathbreaker, Last Hope of the Breaking Storm\t12\t$4.23\t$50.76\n",
    "145\tFiery Glass Crusader\t9\t$4.58\t$41.22\n",
    "108\tExtraction, Quickblade Of Trembling Hands\t9\t$3.53\t$31.77\n",
    "82\tNirvana\t9\t$4.90\t$44.10\n",
    "19\tPursuit, Cudgel of Necromancy\t8\t$1.02\t$8.16\n",
    "Most Profitable Items\n",
    "Sort the above table by total purchase value in descending order\n",
    "Optional: give the displayed data cleaner formatting\n",
    "Display a preview of the data frame"
   ]
  },
  {
   "cell_type": "code",
   "execution_count": null,
   "metadata": {},
   "outputs": [],
   "source": []
  },
  {
   "cell_type": "code",
   "execution_count": null,
   "metadata": {},
   "outputs": [],
   "source": [
    "\t\tPurchase Count\tItem Price\tTotal Purchase Value\n",
    "Item ID\tItem Name\t\t\t\n",
    "178\tOathbreaker, Last Hope of the Breaking Storm\t12\t$4.23\t$50.76\n",
    "82\tNirvana\t9\t$4.90\t$44.10\n",
    "145\tFiery Glass Crusader\t9\t$4.58\t$41.22\n",
    "92\tFinal Critic\t8\t$4.88\t$39.04\n",
    "103\tSinged Scalpel\t8\t$4.35\t$34.80"
   ]
  },
  {
   "cell_type": "code",
   "execution_count": null,
   "metadata": {},
   "outputs": [],
   "source": []
  }
 ],
 "metadata": {
  "kernelspec": {
   "display_name": "Python 3",
   "language": "python",
   "name": "python3"
  },
  "language_info": {
   "codemirror_mode": {
    "name": "ipython",
    "version": 3
   },
   "file_extension": ".py",
   "mimetype": "text/x-python",
   "name": "python",
   "nbconvert_exporter": "python",
   "pygments_lexer": "ipython3",
   "version": "3.7.1"
  }
 },
 "nbformat": 4,
 "nbformat_minor": 2
}
